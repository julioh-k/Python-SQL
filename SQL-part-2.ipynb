{
 "cells": [
  {
   "cell_type": "code",
   "execution_count": 1,
   "id": "0f57b6c4-1e29-43d7-90b0-ae16e7aedc58",
   "metadata": {},
   "outputs": [],
   "source": [
    "#Libraries \n",
    "import sqlite3\n",
    "import pandas as pd\n",
    "\n",
    "#connection with db\n",
    "conn = sqlite3.connect(\"ladder.db\")"
   ]
  },
  {
   "cell_type": "code",
   "execution_count": null,
   "id": "bb202f97-23fa-4640-9ae4-dae936e6ec7c",
   "metadata": {},
   "outputs": [],
   "source": []
  }
 ],
 "metadata": {
  "kernelspec": {
   "display_name": "entono-python",
   "language": "python",
   "name": "entono-python"
  },
  "language_info": {
   "codemirror_mode": {
    "name": "ipython",
    "version": 3
   },
   "file_extension": ".py",
   "mimetype": "text/x-python",
   "name": "python",
   "nbconvert_exporter": "python",
   "pygments_lexer": "ipython3",
   "version": "3.8.13"
  }
 },
 "nbformat": 4,
 "nbformat_minor": 5
}
